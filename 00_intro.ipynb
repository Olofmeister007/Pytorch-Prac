{
  "cells": [
    {
      "cell_type": "markdown",
      "metadata": {
        "id": "view-in-github",
        "colab_type": "text"
      },
      "source": [
        "<a href=\"https://colab.research.google.com/github/Olofmeister007/Pytorch-Prac/blob/main/00_intro.ipynb\" target=\"_parent\"><img src=\"https://colab.research.google.com/assets/colab-badge.svg\" alt=\"Open In Colab\"/></a>"
      ]
    },
    {
      "cell_type": "code",
      "execution_count": null,
      "metadata": {
        "colab": {
          "base_uri": "https://localhost:8080/"
        },
        "id": "S1z4447Cxkwk",
        "outputId": "cdce8927-ee19-4b7c-a161-be8fa8b2b425"
      },
      "outputs": [
        {
          "name": "stdout",
          "output_type": "stream",
          "text": [
            "2.5.1+cu121\n"
          ]
        }
      ],
      "source": [
        "import torch\n",
        "import pandas as pd\n",
        "import numpy as np\n",
        "import matplotlib.pyplot as plt\n",
        "print(torch.__version__)"
      ]
    },
    {
      "cell_type": "code",
      "execution_count": null,
      "metadata": {
        "colab": {
          "base_uri": "https://localhost:8080/"
        },
        "id": "BmZkn4aoyPdm",
        "outputId": "4500c4cc-83b0-4494-ec20-a76bfc4de971"
      },
      "outputs": [
        {
          "data": {
            "text/plain": [
              "tensor(7)"
            ]
          },
          "execution_count": 5,
          "metadata": {},
          "output_type": "execute_result"
        }
      ],
      "source": [
        "scalar = torch.tensor(7)\n",
        "scalar"
      ]
    },
    {
      "cell_type": "code",
      "execution_count": null,
      "metadata": {
        "colab": {
          "base_uri": "https://localhost:8080/"
        },
        "id": "eYrw_4qFzZxm",
        "outputId": "ff063ce2-556f-4947-9c28-039a5d36e626"
      },
      "outputs": [
        {
          "data": {
            "text/plain": [
              "0"
            ]
          },
          "execution_count": 6,
          "metadata": {},
          "output_type": "execute_result"
        }
      ],
      "source": [
        "scalar.ndim"
      ]
    },
    {
      "cell_type": "code",
      "execution_count": null,
      "metadata": {
        "colab": {
          "base_uri": "https://localhost:8080/"
        },
        "id": "eFNZJChiztt5",
        "outputId": "c1a4076f-4902-4221-8016-735efb8ac8f6"
      },
      "outputs": [
        {
          "data": {
            "text/plain": [
              "7"
            ]
          },
          "execution_count": 8,
          "metadata": {},
          "output_type": "execute_result"
        }
      ],
      "source": [
        "scalar.item()"
      ]
    },
    {
      "cell_type": "code",
      "execution_count": null,
      "metadata": {
        "colab": {
          "base_uri": "https://localhost:8080/"
        },
        "id": "14HnRsbDzx1c",
        "outputId": "3401fedc-01d4-416f-9b76-26fc5825ac09"
      },
      "outputs": [
        {
          "data": {
            "text/plain": [
              "tensor([7, 7])"
            ]
          },
          "execution_count": 10,
          "metadata": {},
          "output_type": "execute_result"
        }
      ],
      "source": [
        "vector = torch.tensor([7,7])\n",
        "vector"
      ]
    },
    {
      "cell_type": "code",
      "execution_count": null,
      "metadata": {
        "colab": {
          "base_uri": "https://localhost:8080/"
        },
        "id": "1U6lt6uCz-aq",
        "outputId": "2030611e-fcd0-4fed-9b8f-008cb9277b11"
      },
      "outputs": [
        {
          "data": {
            "text/plain": [
              "1"
            ]
          },
          "execution_count": 11,
          "metadata": {},
          "output_type": "execute_result"
        }
      ],
      "source": [
        "vector.ndim"
      ]
    },
    {
      "cell_type": "code",
      "execution_count": null,
      "metadata": {
        "colab": {
          "base_uri": "https://localhost:8080/"
        },
        "id": "SiJjFe1F0DvC",
        "outputId": "ab084461-7127-4bc9-f5c9-005c3f454dd3"
      },
      "outputs": [
        {
          "data": {
            "text/plain": [
              "torch.Size([2])"
            ]
          },
          "execution_count": 12,
          "metadata": {},
          "output_type": "execute_result"
        }
      ],
      "source": [
        "vector.shape"
      ]
    },
    {
      "cell_type": "code",
      "execution_count": null,
      "metadata": {
        "colab": {
          "base_uri": "https://localhost:8080/"
        },
        "id": "JjoWFVJ40Hl5",
        "outputId": "70e4ca61-f774-404b-b60f-16ab3bb5bc0b"
      },
      "outputs": [
        {
          "data": {
            "text/plain": [
              "2"
            ]
          },
          "execution_count": 16,
          "metadata": {},
          "output_type": "execute_result"
        }
      ],
      "source": [
        "MATRIX = torch.tensor([[7,8],\n",
        "                      [9, 10]])\n",
        "MATRIX.ndim"
      ]
    },
    {
      "cell_type": "code",
      "execution_count": null,
      "metadata": {
        "colab": {
          "base_uri": "https://localhost:8080/"
        },
        "id": "EWd3usL-0pVf",
        "outputId": "89c9476f-5316-464c-afec-f20cc78fd8de"
      },
      "outputs": [
        {
          "data": {
            "text/plain": [
              "torch.Size([2, 2])"
            ]
          },
          "execution_count": 17,
          "metadata": {},
          "output_type": "execute_result"
        }
      ],
      "source": [
        "MATRIX.shape"
      ]
    },
    {
      "cell_type": "code",
      "execution_count": null,
      "metadata": {
        "colab": {
          "base_uri": "https://localhost:8080/"
        },
        "id": "hYWC1qUl0tWP",
        "outputId": "6514200b-feae-4e41-d66f-a52c1076f560"
      },
      "outputs": [
        {
          "data": {
            "text/plain": [
              "3"
            ]
          },
          "execution_count": 19,
          "metadata": {},
          "output_type": "execute_result"
        }
      ],
      "source": [
        "TENSOR = torch.tensor([[[1,2,3],\n",
        "                        [4,5,6],\n",
        "                        [7,8,9]]] )\n",
        "TENSOR.ndim"
      ]
    },
    {
      "cell_type": "code",
      "execution_count": null,
      "metadata": {
        "colab": {
          "base_uri": "https://localhost:8080/"
        },
        "id": "QrLBvUJ40-aN",
        "outputId": "807081db-cd97-4458-fb36-bc75092d61c3"
      },
      "outputs": [
        {
          "data": {
            "text/plain": [
              "torch.Size([1, 3, 3])"
            ]
          },
          "execution_count": 20,
          "metadata": {},
          "output_type": "execute_result"
        }
      ],
      "source": [
        "TENSOR.shape"
      ]
    },
    {
      "cell_type": "code",
      "execution_count": null,
      "metadata": {
        "colab": {
          "base_uri": "https://localhost:8080/"
        },
        "id": "6MoG2_ST4TzY",
        "outputId": "b34b6dde-2e1d-4f9e-cd89-d5a518ff7d42"
      },
      "outputs": [
        {
          "data": {
            "text/plain": [
              "tensor([[0.0936, 0.5090, 0.8044, 0.9187],\n",
              "        [0.9255, 0.3719, 0.6128, 0.6707],\n",
              "        [0.8465, 0.9661, 0.5931, 0.6346]])"
            ]
          },
          "execution_count": 24,
          "metadata": {},
          "output_type": "execute_result"
        }
      ],
      "source": [
        "random_tensor = torch.rand(3,4)\n",
        "random_tensor"
      ]
    },
    {
      "cell_type": "code",
      "execution_count": null,
      "metadata": {
        "colab": {
          "base_uri": "https://localhost:8080/"
        },
        "id": "btOa8f-w4k8P",
        "outputId": "edcd85dc-a238-4cb6-e90d-3cba71f9cfc8"
      },
      "outputs": [
        {
          "data": {
            "text/plain": [
              "(torch.Size([224, 224, 3]), 3)"
            ]
          },
          "execution_count": 27,
          "metadata": {},
          "output_type": "execute_result"
        }
      ],
      "source": [
        "random_image_size_tensor = torch.rand(size=(224,224,3))\n",
        "random_image_size_tensor.shape, random_image_size_tensor.ndim"
      ]
    },
    {
      "cell_type": "code",
      "execution_count": null,
      "metadata": {
        "colab": {
          "base_uri": "https://localhost:8080/"
        },
        "id": "PK2w0xnk4k_U",
        "outputId": "2b30d5af-d224-4efe-c484-81828c6ee3f8"
      },
      "outputs": [
        {
          "data": {
            "text/plain": [
              "tensor([[[0.9229, 0.5244, 0.7208],\n",
              "         [0.3344, 0.9833, 0.0329],\n",
              "         [0.1934, 0.5194, 0.1191],\n",
              "         ...,\n",
              "         [0.1915, 0.4058, 0.2190],\n",
              "         [0.4085, 0.4811, 0.8954],\n",
              "         [0.7030, 0.9029, 0.8503]],\n",
              "\n",
              "        [[0.3791, 0.1218, 0.6228],\n",
              "         [0.2699, 0.7701, 0.2595],\n",
              "         [0.2554, 0.8336, 0.5314],\n",
              "         ...,\n",
              "         [0.2254, 0.5157, 0.0231],\n",
              "         [0.1728, 0.6175, 0.4229],\n",
              "         [0.6969, 0.4501, 0.8156]],\n",
              "\n",
              "        [[0.6115, 0.9080, 0.7054],\n",
              "         [0.7116, 0.4143, 0.9759],\n",
              "         [0.5939, 0.9330, 0.4448],\n",
              "         ...,\n",
              "         [0.8400, 0.4340, 0.6690],\n",
              "         [0.0126, 0.0366, 0.9961],\n",
              "         [0.9405, 0.5748, 0.9482]],\n",
              "\n",
              "        ...,\n",
              "\n",
              "        [[0.8630, 0.6875, 0.6908],\n",
              "         [0.9655, 0.8917, 0.2735],\n",
              "         [0.4111, 0.2531, 0.0143],\n",
              "         ...,\n",
              "         [0.8429, 0.3723, 0.1959],\n",
              "         [0.6815, 0.7324, 0.9701],\n",
              "         [0.7645, 0.6569, 0.3676]],\n",
              "\n",
              "        [[0.6893, 0.0763, 0.2761],\n",
              "         [0.6136, 0.5063, 0.5562],\n",
              "         [0.0407, 0.0606, 0.5971],\n",
              "         ...,\n",
              "         [0.6805, 0.4970, 0.9565],\n",
              "         [0.3523, 0.4143, 0.9853],\n",
              "         [0.4202, 0.0460, 0.6363]],\n",
              "\n",
              "        [[0.5611, 0.3654, 0.2629],\n",
              "         [0.0358, 0.0340, 0.4694],\n",
              "         [0.5778, 0.5602, 0.2560],\n",
              "         ...,\n",
              "         [0.2702, 0.5009, 0.4448],\n",
              "         [0.2211, 0.4186, 0.0846],\n",
              "         [0.0794, 0.9484, 0.7600]]])"
            ]
          },
          "execution_count": 29,
          "metadata": {},
          "output_type": "execute_result"
        }
      ],
      "source": [
        "random_image_size_tensor"
      ]
    },
    {
      "cell_type": "code",
      "execution_count": null,
      "metadata": {
        "colab": {
          "base_uri": "https://localhost:8080/"
        },
        "id": "69GgW0Ms4lBX",
        "outputId": "60b88640-f9c3-40aa-911f-42949fda84cd"
      },
      "outputs": [
        {
          "data": {
            "text/plain": [
              "torch.float32"
            ]
          },
          "execution_count": 30,
          "metadata": {},
          "output_type": "execute_result"
        }
      ],
      "source": [
        "ones = torch.ones(3,4)\n",
        "ones.dtype"
      ]
    },
    {
      "cell_type": "code",
      "execution_count": null,
      "metadata": {
        "colab": {
          "base_uri": "https://localhost:8080/"
        },
        "id": "gkxnPBMD4lDd",
        "outputId": "de21b90b-201d-4782-a775-4f83fbfa2c55"
      },
      "outputs": [
        {
          "data": {
            "text/plain": [
              "tensor([0, 1, 2, 3, 4, 5, 6, 7, 8, 9])"
            ]
          },
          "execution_count": 32,
          "metadata": {},
          "output_type": "execute_result"
        }
      ],
      "source": [
        "torch.arange(0,10)"
      ]
    },
    {
      "cell_type": "code",
      "execution_count": null,
      "metadata": {
        "colab": {
          "background_save": true,
          "base_uri": "https://localhost:8080/"
        },
        "id": "4DMgu0GICPBs",
        "outputId": "43b33086-ceee-4366-c97f-e907d36d2053"
      },
      "outputs": [
        {
          "data": {
            "text/plain": [
              "tensor([0, 0, 0, 0, 0, 0, 0, 0, 0, 0, 0, 0, 0])"
            ]
          },
          "execution_count": 34,
          "metadata": {},
          "output_type": "execute_result"
        }
      ],
      "source": []
    },
    {
      "cell_type": "code",
      "execution_count": null,
      "metadata": {
        "id": "hOQR2KTSEh7R",
        "colab": {
          "base_uri": "https://localhost:8080/"
        },
        "outputId": "d67ffb78-d198-4305-e14c-d9245569fb6e"
      },
      "outputs": [
        {
          "output_type": "execute_result",
          "data": {
            "text/plain": [
              "tensor([0, 0, 0, 0, 0, 0, 0, 0, 0, 0, 0, 0, 0])"
            ]
          },
          "metadata": {},
          "execution_count": 35
        }
      ],
      "source": [
        "meow = torch.arange(start=0, end=1000, step=77)\n",
        "meow\n",
        "\n",
        "haha = torch.zeros_like(input=meow)\n",
        "haha"
      ]
    },
    {
      "cell_type": "code",
      "source": [
        "hoho = torch.zeros(3,4, dtype=None, device=None, requires_grad=False)"
      ],
      "metadata": {
        "id": "01sWhYpHMvTr"
      },
      "execution_count": null,
      "outputs": []
    },
    {
      "cell_type": "code",
      "execution_count": null,
      "metadata": {
        "id": "KSvySuE84lFi"
      },
      "outputs": [],
      "source": []
    },
    {
      "cell_type": "code",
      "execution_count": null,
      "metadata": {
        "id": "M0qsl_9y4lHX"
      },
      "outputs": [],
      "source": []
    },
    {
      "cell_type": "code",
      "execution_count": null,
      "metadata": {
        "id": "JDs_BhSd4lJc"
      },
      "outputs": [],
      "source": []
    },
    {
      "cell_type": "code",
      "execution_count": null,
      "metadata": {
        "id": "leVeZmu24lME"
      },
      "outputs": [],
      "source": []
    },
    {
      "cell_type": "code",
      "execution_count": null,
      "metadata": {
        "id": "huodfgh94lOq"
      },
      "outputs": [],
      "source": []
    },
    {
      "cell_type": "code",
      "execution_count": null,
      "metadata": {
        "id": "p2_jHJuj4lQ_"
      },
      "outputs": [],
      "source": []
    }
  ],
  "metadata": {
    "colab": {
      "provenance": [],
      "authorship_tag": "ABX9TyPzh2smsZ/Qw736+/X9PSFy",
      "include_colab_link": true
    },
    "kernelspec": {
      "display_name": "Python 3",
      "name": "python3"
    },
    "language_info": {
      "name": "python"
    }
  },
  "nbformat": 4,
  "nbformat_minor": 0
}